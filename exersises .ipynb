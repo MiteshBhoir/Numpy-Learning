{
  "cells": [
    {
      "cell_type": "markdown",
      "id": "b8184faf-56e6-4cb5-84bc-9a23cce153fe",
      "metadata": {
        "id": "b8184faf-56e6-4cb5-84bc-9a23cce153fe"
      },
      "source": [
        "**Valid Sudoku**"
      ]
    },
    {
      "cell_type": "code",
      "source": [
        "import numpy as np"
      ],
      "metadata": {
        "id": "HqD6CAu-7Swq"
      },
      "id": "HqD6CAu-7Swq",
      "execution_count": null,
      "outputs": []
    },
    {
      "cell_type": "code",
      "execution_count": null,
      "id": "01aca062-5ef2-423a-94d1-24cb73fc0551",
      "metadata": {
        "id": "01aca062-5ef2-423a-94d1-24cb73fc0551"
      },
      "outputs": [],
      "source": [
        "s = np.array([\n",
        "    [5, 3, 4, 6, 7, 8, 9, 1, 2],\n",
        "    [6, 7, 2, 1, 9, 5, 3, 4, 8],\n",
        "    [1, 9, 8, 3, 4, 2, 5, 6, 7],\n",
        "\n",
        "    [8, 5, 9, 7, 6, 1, 4, 2, 3],\n",
        "    [4, 2, 6, 8, 5, 3, 7, 9, 1],\n",
        "    [7, 1, 3, 9, 2, 4, 8, 5, 6],\n",
        "\n",
        "    [9, 6, 1, 5, 3, 7, 2, 8, 4],\n",
        "    [2, 8, 7, 4, 1, 9, 6, 3, 5],\n",
        "    [3, 4, 5, 2, 8, 6, 1, 7, 9]\n",
        "])"
      ]
    },
    {
      "cell_type": "code",
      "source": [
        "import numpy as np\n",
        "\n",
        "def valid_sudoku():\n",
        "    a = np.sum(s, axis=1)  # row sums\n",
        "    b = np.sum(s, axis=0)  # column sums\n",
        "\n",
        "    # If any row or column sum is not 45, return False\n",
        "    if np.any(a != 45) or np.any(b != 45):\n",
        "        return False\n",
        "\n",
        "    # Check 3x3 subgrids\n",
        "    for i in range(0, 9, 3):\n",
        "        for j in range(0, 9, 3):\n",
        "            c = s[i:i+3, j:j+3]\n",
        "            if np.sum(c) != 45:\n",
        "                return False\n",
        "\n",
        "    return True\n",
        "\n",
        "# Check it\n",
        "print(valid_sudoku())  # Output: True\n"
      ],
      "metadata": {
        "colab": {
          "base_uri": "https://localhost:8080/"
        },
        "id": "1J3VV5Mx-ChC",
        "outputId": "7fd5cd75-7f07-40bf-95a9-74fdd09db13e"
      },
      "id": "1J3VV5Mx-ChC",
      "execution_count": null,
      "outputs": [
        {
          "output_type": "stream",
          "name": "stdout",
          "text": [
            "True\n"
          ]
        }
      ]
    },
    {
      "cell_type": "markdown",
      "id": "b80e97ca-7b75-4d54-b17b-1dc633d28d21",
      "metadata": {
        "id": "b80e97ca-7b75-4d54-b17b-1dc633d28d21"
      },
      "source": [
        "**General Questions**"
      ]
    },
    {
      "cell_type": "code",
      "execution_count": null,
      "id": "1a661d89-c528-4af5-9117-907f23f8dfeb",
      "metadata": {
        "id": "1a661d89-c528-4af5-9117-907f23f8dfeb"
      },
      "outputs": [],
      "source": [
        "import numpy as np\n",
        "\n",
        "# Columns: [Age, Math Marks, Science Marks]\n",
        "data = np.array([\n",
        "    [18, 85, 78],   # Student 1\n",
        "    [19, 92, 88],   # Student 2\n",
        "    [17, 76, 95],   # Student 3\n",
        "    [18, 65, 70],   # Student 4\n",
        "    [20, 90, 85]    # Student 5\n",
        "])"
      ]
    },
    {
      "cell_type": "code",
      "execution_count": null,
      "id": "cc86649d-6eaf-4f29-ae82-626d87ab0412",
      "metadata": {
        "colab": {
          "base_uri": "https://localhost:8080/"
        },
        "id": "cc86649d-6eaf-4f29-ae82-626d87ab0412",
        "outputId": "931a5360-fc01-4198-d572-ab433af63c29"
      },
      "outputs": [
        {
          "output_type": "execute_result",
          "data": {
            "text/plain": [
              "(5, 3)"
            ]
          },
          "metadata": {},
          "execution_count": 98
        }
      ],
      "source": [
        "#Get the shape of the matrix.\n",
        "data.shape"
      ]
    },
    {
      "cell_type": "code",
      "execution_count": null,
      "id": "512ab9df-174c-473a-b85a-edcaf1694bc3",
      "metadata": {
        "colab": {
          "base_uri": "https://localhost:8080/"
        },
        "id": "512ab9df-174c-473a-b85a-edcaf1694bc3",
        "outputId": "4c548636-6e26-44ff-b08e-573ddaba083e"
      },
      "outputs": [
        {
          "output_type": "execute_result",
          "data": {
            "text/plain": [
              "np.float64(18.4)"
            ]
          },
          "metadata": {},
          "execution_count": 99
        }
      ],
      "source": [
        "#Find the average age of students.\n",
        "np.mean(data[:,0])"
      ]
    },
    {
      "cell_type": "code",
      "execution_count": null,
      "id": "050a5141-ab0a-4e9d-be98-bb37d1e8bd3f",
      "metadata": {
        "colab": {
          "base_uri": "https://localhost:8080/"
        },
        "id": "050a5141-ab0a-4e9d-be98-bb37d1e8bd3f",
        "outputId": "76faabf5-eb1f-41c6-8408-038f97b72ccf"
      },
      "outputs": [
        {
          "output_type": "execute_result",
          "data": {
            "text/plain": [
              "array([85, 92, 76, 65, 90])"
            ]
          },
          "metadata": {},
          "execution_count": 100
        }
      ],
      "source": [
        "#Extract Math marks of all students.\n",
        "data[:,1]\n"
      ]
    },
    {
      "cell_type": "code",
      "execution_count": null,
      "id": "05a724aa-b2b6-4c32-b1f6-03b568d87649",
      "metadata": {
        "colab": {
          "base_uri": "https://localhost:8080/"
        },
        "id": "05a724aa-b2b6-4c32-b1f6-03b568d87649",
        "outputId": "115de608-7993-4f86-a2c3-5fddde910f47"
      },
      "outputs": [
        {
          "output_type": "execute_result",
          "data": {
            "text/plain": [
              "np.int64(95)"
            ]
          },
          "metadata": {},
          "execution_count": 101
        }
      ],
      "source": [
        "#Find the highest Science mark.\n",
        "np.max(data[:,2])"
      ]
    },
    {
      "cell_type": "code",
      "execution_count": null,
      "id": "58dbe813-ad7d-4bd1-af72-81f0f7cd86ff",
      "metadata": {
        "colab": {
          "base_uri": "https://localhost:8080/"
        },
        "id": "58dbe813-ad7d-4bd1-af72-81f0f7cd86ff",
        "outputId": "8c5b9a68-978a-46f1-e1bb-318530687e96"
      },
      "outputs": [
        {
          "output_type": "execute_result",
          "data": {
            "text/plain": [
              "array([[19, 92, 88]])"
            ]
          },
          "metadata": {},
          "execution_count": 102
        }
      ],
      "source": [
        "#Get details of the student who scored more than 90 in Math.\n",
        "data[data[:,1] > 90]"
      ]
    },
    {
      "cell_type": "code",
      "execution_count": null,
      "id": "0d8d4e9f-e7aa-4926-a432-4565b3e08f27",
      "metadata": {
        "colab": {
          "base_uri": "https://localhost:8080/"
        },
        "id": "0d8d4e9f-e7aa-4926-a432-4565b3e08f27",
        "outputId": "b67f9ddd-f028-4b93-8002-09c364d499df"
      },
      "outputs": [
        {
          "output_type": "execute_result",
          "data": {
            "text/plain": [
              "array([[18, 90, 78],\n",
              "       [19, 97, 88],\n",
              "       [17, 81, 95],\n",
              "       [18, 70, 70],\n",
              "       [20, 95, 85]])"
            ]
          },
          "metadata": {},
          "execution_count": 103
        }
      ],
      "source": [
        "#Increase Math marks of all students by 5.\n",
        "data[:,1]=data[:,1] +5\n",
        "data"
      ]
    },
    {
      "cell_type": "code",
      "execution_count": null,
      "id": "6d3945af-91b5-4e81-ad8d-3ec3dca1119d",
      "metadata": {
        "colab": {
          "base_uri": "https://localhost:8080/"
        },
        "id": "6d3945af-91b5-4e81-ad8d-3ec3dca1119d",
        "outputId": "7ae88895-9102-4e6d-ef35-bc6bf5d4968e"
      },
      "outputs": [
        {
          "output_type": "execute_result",
          "data": {
            "text/plain": [
              "3"
            ]
          },
          "metadata": {},
          "execution_count": 104
        }
      ],
      "source": [
        "#Find how many students are younger than 19.\n",
        "len(data[data[:,0]<19] )"
      ]
    },
    {
      "cell_type": "code",
      "execution_count": null,
      "id": "64134eb8-c6d1-4d0b-a19b-1d124b18cf71",
      "metadata": {
        "colab": {
          "base_uri": "https://localhost:8080/"
        },
        "id": "64134eb8-c6d1-4d0b-a19b-1d124b18cf71",
        "outputId": "a51c9aa3-882e-4666-d455-f06fa8b53b0d"
      },
      "outputs": [
        {
          "output_type": "execute_result",
          "data": {
            "text/plain": [
              "array([86.6, 83.2])"
            ]
          },
          "metadata": {},
          "execution_count": 105
        }
      ],
      "source": [
        "#Calculate the average marks in each subject (column-wise mean).\n",
        "np.mean(data[:,1:],axis=0)"
      ]
    },
    {
      "cell_type": "code",
      "execution_count": null,
      "id": "0c44133f-6641-4da8-9d52-e28ee75098c4",
      "metadata": {
        "colab": {
          "base_uri": "https://localhost:8080/"
        },
        "id": "0c44133f-6641-4da8-9d52-e28ee75098c4",
        "outputId": "c65d2365-07ed-41f0-d34f-bb855fe8c5d0"
      },
      "outputs": [
        {
          "output_type": "execute_result",
          "data": {
            "text/plain": [
              "array([[19, 97, 88],\n",
              "       [17, 81, 95],\n",
              "       [20, 95, 85]])"
            ]
          },
          "metadata": {},
          "execution_count": 106
        }
      ],
      "source": [
        "#Get data of students who scored at least 80 in both subjects.\n",
        "data[(data[:,1]>=80)&(data[:,2]>=80)]"
      ]
    },
    {
      "cell_type": "code",
      "execution_count": null,
      "id": "7619e559-c244-4ca1-add2-7daca65b365e",
      "metadata": {
        "colab": {
          "base_uri": "https://localhost:8080/"
        },
        "id": "7619e559-c244-4ca1-add2-7daca65b365e",
        "outputId": "f710def4-274f-4635-c701-fe4c814dfaa1"
      },
      "outputs": [
        {
          "output_type": "execute_result",
          "data": {
            "text/plain": [
              "array([[18, 90, 78],\n",
              "       [19, 97, 88],\n",
              "       [17, 81, 95],\n",
              "       [18, 70,  0],\n",
              "       [20, 95, 85]])"
            ]
          },
          "metadata": {},
          "execution_count": 108
        }
      ],
      "source": [
        "#Replace all Science marks < 75 with 0.\n",
        "data[:,2][data[:,2] < 75]=0\n",
        "data"
      ]
    },
    {
      "cell_type": "code",
      "source": [],
      "metadata": {
        "id": "wip0RUltMjxQ"
      },
      "id": "wip0RUltMjxQ",
      "execution_count": null,
      "outputs": []
    }
  ],
  "metadata": {
    "kernelspec": {
      "display_name": "Python [conda env:base] *",
      "language": "python",
      "name": "conda-base-py"
    },
    "language_info": {
      "codemirror_mode": {
        "name": "ipython",
        "version": 3
      },
      "file_extension": ".py",
      "mimetype": "text/x-python",
      "name": "python",
      "nbconvert_exporter": "python",
      "pygments_lexer": "ipython3",
      "version": "3.12.7"
    },
    "colab": {
      "provenance": []
    }
  },
  "nbformat": 4,
  "nbformat_minor": 5
}